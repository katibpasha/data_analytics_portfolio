{
  "cells": [
    {
      "cell_type": "markdown",
      "metadata": {},
      "source": [
        "#### Importing Library"
      ]
    },
    {
      "cell_type": "code",
      "execution_count": 1,
      "metadata": {
        "id": "icrkFYr2jffU"
      },
      "outputs": [],
      "source": [
        "import numpy as np\n",
        "import pandas as pd\n",
        "import matplotlib.pyplot as plt\n",
        "%matplotlib inline\n",
        "import seaborn as sns"
      ]
    },
    {
      "cell_type": "markdown",
      "metadata": {},
      "source": [
        "#### Read Dataset"
      ]
    },
    {
      "cell_type": "code",
      "execution_count": 2,
      "metadata": {
        "colab": {
          "base_uri": "https://localhost:8080/",
          "height": 261
        },
        "id": "O004QMPjpLKT",
        "outputId": "5f6e81e6-c678-445d-86e2-0319ec97a812"
      },
      "outputs": [
        {
          "name": "stderr",
          "output_type": "stream",
          "text": [
            "c:\\Users\\PC\\anaconda3\\lib\\site-packages\\IPython\\core\\interactiveshell.py:3444: DtypeWarning: Columns (14) have mixed types.Specify dtype option on import or set low_memory=False.\n",
            "  exec(code_obj, self.user_global_ns, self.user_ns)\n"
          ]
        },
        {
          "data": {
            "text/html": [
              "<div>\n",
              "<style scoped>\n",
              "    .dataframe tbody tr th:only-of-type {\n",
              "        vertical-align: middle;\n",
              "    }\n",
              "\n",
              "    .dataframe tbody tr th {\n",
              "        vertical-align: top;\n",
              "    }\n",
              "\n",
              "    .dataframe thead th {\n",
              "        text-align: right;\n",
              "    }\n",
              "</style>\n",
              "<table border=\"1\" class=\"dataframe\">\n",
              "  <thead>\n",
              "    <tr style=\"text-align: right;\">\n",
              "      <th></th>\n",
              "      <th>Num_Acc</th>\n",
              "      <th>an</th>\n",
              "      <th>mois</th>\n",
              "      <th>jour</th>\n",
              "      <th>hrmn</th>\n",
              "      <th>lum</th>\n",
              "      <th>agg</th>\n",
              "      <th>int</th>\n",
              "      <th>atm</th>\n",
              "      <th>col</th>\n",
              "      <th>com</th>\n",
              "      <th>adr</th>\n",
              "      <th>gps</th>\n",
              "      <th>lat</th>\n",
              "      <th>long</th>\n",
              "      <th>dep</th>\n",
              "    </tr>\n",
              "  </thead>\n",
              "  <tbody>\n",
              "    <tr>\n",
              "      <th>0</th>\n",
              "      <td>201600000001</td>\n",
              "      <td>16</td>\n",
              "      <td>2</td>\n",
              "      <td>1</td>\n",
              "      <td>1445</td>\n",
              "      <td>1</td>\n",
              "      <td>2</td>\n",
              "      <td>1</td>\n",
              "      <td>8.0</td>\n",
              "      <td>3.0</td>\n",
              "      <td>5.0</td>\n",
              "      <td>46, rue Sonneville</td>\n",
              "      <td>M</td>\n",
              "      <td>0.0</td>\n",
              "      <td>0.0</td>\n",
              "      <td>590</td>\n",
              "    </tr>\n",
              "    <tr>\n",
              "      <th>1</th>\n",
              "      <td>201600000002</td>\n",
              "      <td>16</td>\n",
              "      <td>3</td>\n",
              "      <td>16</td>\n",
              "      <td>1800</td>\n",
              "      <td>1</td>\n",
              "      <td>2</td>\n",
              "      <td>6</td>\n",
              "      <td>1.0</td>\n",
              "      <td>6.0</td>\n",
              "      <td>5.0</td>\n",
              "      <td>1a rue du cimetière</td>\n",
              "      <td>M</td>\n",
              "      <td>0.0</td>\n",
              "      <td>0.0</td>\n",
              "      <td>590</td>\n",
              "    </tr>\n",
              "    <tr>\n",
              "      <th>2</th>\n",
              "      <td>201600000003</td>\n",
              "      <td>16</td>\n",
              "      <td>7</td>\n",
              "      <td>13</td>\n",
              "      <td>1900</td>\n",
              "      <td>1</td>\n",
              "      <td>1</td>\n",
              "      <td>1</td>\n",
              "      <td>1.0</td>\n",
              "      <td>6.0</td>\n",
              "      <td>11.0</td>\n",
              "      <td>NaN</td>\n",
              "      <td>M</td>\n",
              "      <td>0.0</td>\n",
              "      <td>0.0</td>\n",
              "      <td>590</td>\n",
              "    </tr>\n",
              "    <tr>\n",
              "      <th>3</th>\n",
              "      <td>201600000004</td>\n",
              "      <td>16</td>\n",
              "      <td>8</td>\n",
              "      <td>15</td>\n",
              "      <td>1930</td>\n",
              "      <td>2</td>\n",
              "      <td>2</td>\n",
              "      <td>1</td>\n",
              "      <td>7.0</td>\n",
              "      <td>3.0</td>\n",
              "      <td>477.0</td>\n",
              "      <td>52 rue victor hugo</td>\n",
              "      <td>M</td>\n",
              "      <td>0.0</td>\n",
              "      <td>0.0</td>\n",
              "      <td>590</td>\n",
              "    </tr>\n",
              "    <tr>\n",
              "      <th>4</th>\n",
              "      <td>201600000005</td>\n",
              "      <td>16</td>\n",
              "      <td>12</td>\n",
              "      <td>23</td>\n",
              "      <td>1100</td>\n",
              "      <td>1</td>\n",
              "      <td>2</td>\n",
              "      <td>3</td>\n",
              "      <td>1.0</td>\n",
              "      <td>3.0</td>\n",
              "      <td>11.0</td>\n",
              "      <td>rue Joliot curie</td>\n",
              "      <td>M</td>\n",
              "      <td>0.0</td>\n",
              "      <td>0.0</td>\n",
              "      <td>590</td>\n",
              "    </tr>\n",
              "  </tbody>\n",
              "</table>\n",
              "</div>"
            ],
            "text/plain": [
              "        Num_Acc  an  mois  jour  hrmn  lum  agg  int  atm  col    com  \\\n",
              "0  201600000001  16     2     1  1445    1    2    1  8.0  3.0    5.0   \n",
              "1  201600000002  16     3    16  1800    1    2    6  1.0  6.0    5.0   \n",
              "2  201600000003  16     7    13  1900    1    1    1  1.0  6.0   11.0   \n",
              "3  201600000004  16     8    15  1930    2    2    1  7.0  3.0  477.0   \n",
              "4  201600000005  16    12    23  1100    1    2    3  1.0  3.0   11.0   \n",
              "\n",
              "                   adr gps  lat long  dep  \n",
              "0   46, rue Sonneville   M  0.0  0.0  590  \n",
              "1  1a rue du cimetière   M  0.0  0.0  590  \n",
              "2                  NaN   M  0.0  0.0  590  \n",
              "3   52 rue victor hugo   M  0.0  0.0  590  \n",
              "4     rue Joliot curie   M  0.0  0.0  590  "
            ]
          },
          "execution_count": 2,
          "metadata": {},
          "output_type": "execute_result"
        }
      ],
      "source": [
        "dataset = pd.read_csv('dataset/caracteristics.csv', encoding='latin1')\n",
        "dataset.head()"
      ]
    },
    {
      "cell_type": "markdown",
      "metadata": {},
      "source": [
        "#### Data Pre-processing"
      ]
    },
    {
      "cell_type": "code",
      "execution_count": 3,
      "metadata": {
        "colab": {
          "base_uri": "https://localhost:8080/"
        },
        "id": "upnWU9ydp9Q_",
        "outputId": "095929f9-c09e-4dec-edec-22e0afb84f01"
      },
      "outputs": [
        {
          "data": {
            "text/plain": [
              "Num_Acc      int64\n",
              "an           int64\n",
              "mois         int64\n",
              "jour         int64\n",
              "hrmn         int64\n",
              "lum          int64\n",
              "agg          int64\n",
              "int          int64\n",
              "atm        float64\n",
              "col        float64\n",
              "com        float64\n",
              "adr         object\n",
              "gps         object\n",
              "lat        float64\n",
              "long        object\n",
              "dep          int64\n",
              "dtype: object"
            ]
          },
          "execution_count": 3,
          "metadata": {},
          "output_type": "execute_result"
        }
      ],
      "source": [
        "# checking each attribute's data type\n",
        "\n",
        "dataset.dtypes"
      ]
    },
    {
      "cell_type": "code",
      "execution_count": 4,
      "metadata": {
        "colab": {
          "base_uri": "https://localhost:8080/"
        },
        "id": "EP5FXFK0pgHW",
        "outputId": "0ed53d97-70dd-43e9-c43b-aeb4085f9865"
      },
      "outputs": [
        {
          "data": {
            "text/plain": [
              "Index(['atm', 'col', 'com', 'adr', 'gps', 'lat', 'long'], dtype='object')"
            ]
          },
          "execution_count": 4,
          "metadata": {},
          "output_type": "execute_result"
        }
      ],
      "source": [
        "# Find out the sum of null value\n",
        "\n",
        "dataset.columns[dataset.isna().sum() != 0]"
      ]
    },
    {
      "cell_type": "code",
      "execution_count": 5,
      "metadata": {
        "id": "f69pXq1dpqzc"
      },
      "outputs": [],
      "source": [
        "# change value in 'lum' attribute to easier word\n",
        "\n",
        "dataset['lum'] = dataset['lum'].astype(str) \n",
        "dataset['lum'] = dataset['lum'].replace({'1': 'Full day', '2': 'Twilight or dawn', '3': 'Night no public lighting', \n",
        "                                        '4': 'Night lighting not lit', '5': 'Night with public lighting on'})"
      ]
    },
    {
      "cell_type": "code",
      "execution_count": 6,
      "metadata": {
        "colab": {
          "base_uri": "https://localhost:8080/",
          "height": 295
        },
        "id": "_I-4jxCKpx3-",
        "outputId": "63336667-4db0-4f8c-90fd-42869490cf05"
      },
      "outputs": [
        {
          "data": {
            "image/png": "[encoded data removed]",
            "text/plain": [
              "<Figure size 432x288 with 1 Axes>"
            ]
          },
          "metadata": {
            "needs_background": "light"
          },
          "output_type": "display_data"
        }
      ],
      "source": [
        "# Attribute 'lum' visualization\n",
        "\n",
        "plt.clf()\n",
        "ax = sns.countplot(y = 'lum', data=dataset)\n",
        "ax.set_title('Number of accidents based on the lightning conditions')\n",
        "ax.set_xlabel('Number of accidents')\n",
        "ax.set_ylabel('Light conditions')\n",
        "plt.show()"
      ]
    },
    {
      "cell_type": "code",
      "execution_count": 7,
      "metadata": {
        "colab": {
          "base_uri": "https://localhost:8080/",
          "height": 250
        },
        "id": "TlNi84viqD7F",
        "outputId": "89d4b1d6-09e0-40f2-ceaa-e196cf11dca7"
      },
      "outputs": [
        {
          "data": {
            "text/html": [
              "<div>\n",
              "<style scoped>\n",
              "    .dataframe tbody tr th:only-of-type {\n",
              "        vertical-align: middle;\n",
              "    }\n",
              "\n",
              "    .dataframe tbody tr th {\n",
              "        vertical-align: top;\n",
              "    }\n",
              "\n",
              "    .dataframe thead th {\n",
              "        text-align: right;\n",
              "    }\n",
              "</style>\n",
              "<table border=\"1\" class=\"dataframe\">\n",
              "  <thead>\n",
              "    <tr style=\"text-align: right;\">\n",
              "      <th></th>\n",
              "      <th>Num_Acc</th>\n",
              "      <th>an</th>\n",
              "      <th>mois</th>\n",
              "      <th>jour</th>\n",
              "      <th>hrmn</th>\n",
              "      <th>lum</th>\n",
              "      <th>agg</th>\n",
              "      <th>int</th>\n",
              "      <th>atm</th>\n",
              "      <th>col</th>\n",
              "      <th>com</th>\n",
              "      <th>adr</th>\n",
              "      <th>gps</th>\n",
              "      <th>lat</th>\n",
              "      <th>long</th>\n",
              "      <th>dep</th>\n",
              "      <th>hr</th>\n",
              "    </tr>\n",
              "  </thead>\n",
              "  <tbody>\n",
              "    <tr>\n",
              "      <th>0</th>\n",
              "      <td>201600000001</td>\n",
              "      <td>16</td>\n",
              "      <td>2</td>\n",
              "      <td>1</td>\n",
              "      <td>1445</td>\n",
              "      <td>Full day</td>\n",
              "      <td>2</td>\n",
              "      <td>1</td>\n",
              "      <td>8.0</td>\n",
              "      <td>3.0</td>\n",
              "      <td>5.0</td>\n",
              "      <td>46, rue Sonneville</td>\n",
              "      <td>M</td>\n",
              "      <td>0.0</td>\n",
              "      <td>0.0</td>\n",
              "      <td>590</td>\n",
              "      <td>14</td>\n",
              "    </tr>\n",
              "    <tr>\n",
              "      <th>1</th>\n",
              "      <td>201600000002</td>\n",
              "      <td>16</td>\n",
              "      <td>3</td>\n",
              "      <td>16</td>\n",
              "      <td>1800</td>\n",
              "      <td>Full day</td>\n",
              "      <td>2</td>\n",
              "      <td>6</td>\n",
              "      <td>1.0</td>\n",
              "      <td>6.0</td>\n",
              "      <td>5.0</td>\n",
              "      <td>1a rue du cimetière</td>\n",
              "      <td>M</td>\n",
              "      <td>0.0</td>\n",
              "      <td>0.0</td>\n",
              "      <td>590</td>\n",
              "      <td>18</td>\n",
              "    </tr>\n",
              "    <tr>\n",
              "      <th>2</th>\n",
              "      <td>201600000003</td>\n",
              "      <td>16</td>\n",
              "      <td>7</td>\n",
              "      <td>13</td>\n",
              "      <td>1900</td>\n",
              "      <td>Full day</td>\n",
              "      <td>1</td>\n",
              "      <td>1</td>\n",
              "      <td>1.0</td>\n",
              "      <td>6.0</td>\n",
              "      <td>11.0</td>\n",
              "      <td>NaN</td>\n",
              "      <td>M</td>\n",
              "      <td>0.0</td>\n",
              "      <td>0.0</td>\n",
              "      <td>590</td>\n",
              "      <td>19</td>\n",
              "    </tr>\n",
              "    <tr>\n",
              "      <th>3</th>\n",
              "      <td>201600000004</td>\n",
              "      <td>16</td>\n",
              "      <td>8</td>\n",
              "      <td>15</td>\n",
              "      <td>1930</td>\n",
              "      <td>Twilight or dawn</td>\n",
              "      <td>2</td>\n",
              "      <td>1</td>\n",
              "      <td>7.0</td>\n",
              "      <td>3.0</td>\n",
              "      <td>477.0</td>\n",
              "      <td>52 rue victor hugo</td>\n",
              "      <td>M</td>\n",
              "      <td>0.0</td>\n",
              "      <td>0.0</td>\n",
              "      <td>590</td>\n",
              "      <td>19</td>\n",
              "    </tr>\n",
              "    <tr>\n",
              "      <th>4</th>\n",
              "      <td>201600000005</td>\n",
              "      <td>16</td>\n",
              "      <td>12</td>\n",
              "      <td>23</td>\n",
              "      <td>1100</td>\n",
              "      <td>Full day</td>\n",
              "      <td>2</td>\n",
              "      <td>3</td>\n",
              "      <td>1.0</td>\n",
              "      <td>3.0</td>\n",
              "      <td>11.0</td>\n",
              "      <td>rue Joliot curie</td>\n",
              "      <td>M</td>\n",
              "      <td>0.0</td>\n",
              "      <td>0.0</td>\n",
              "      <td>590</td>\n",
              "      <td>11</td>\n",
              "    </tr>\n",
              "  </tbody>\n",
              "</table>\n",
              "</div>"
            ],
            "text/plain": [
              "        Num_Acc  an  mois  jour  hrmn               lum  agg  int  atm  col  \\\n",
              "0  201600000001  16     2     1  1445          Full day    2    1  8.0  3.0   \n",
              "1  201600000002  16     3    16  1800          Full day    2    6  1.0  6.0   \n",
              "2  201600000003  16     7    13  1900          Full day    1    1  1.0  6.0   \n",
              "3  201600000004  16     8    15  1930  Twilight or dawn    2    1  7.0  3.0   \n",
              "4  201600000005  16    12    23  1100          Full day    2    3  1.0  3.0   \n",
              "\n",
              "     com                  adr gps  lat long  dep  hr  \n",
              "0    5.0   46, rue Sonneville   M  0.0  0.0  590  14  \n",
              "1    5.0  1a rue du cimetière   M  0.0  0.0  590  18  \n",
              "2   11.0                  NaN   M  0.0  0.0  590  19  \n",
              "3  477.0   52 rue victor hugo   M  0.0  0.0  590  19  \n",
              "4   11.0     rue Joliot curie   M  0.0  0.0  590  11  "
            ]
          },
          "execution_count": 7,
          "metadata": {},
          "output_type": "execute_result"
        }
      ],
      "source": [
        "# changing 'hr' attribute value to hour without minute\n",
        "\n",
        "dataset['hr'] = dataset['hrmn']/100\n",
        "dataset['hr'] = dataset['hr'].astype('int64')\n",
        "dataset.head()"
      ]
    },
    {
      "cell_type": "code",
      "execution_count": 8,
      "metadata": {
        "colab": {
          "base_uri": "https://localhost:8080/",
          "height": 475
        },
        "id": "3PKclCeJqHZr",
        "outputId": "7faaf1b9-ee25-4453-a65f-a7219971bb9e"
      },
      "outputs": [
        {
          "data": {
            "text/plain": [
              "<Figure size 432x288 with 0 Axes>"
            ]
          },
          "metadata": {},
          "output_type": "display_data"
        },
        {
          "data": {
            "image/png": "[encoded data removed]",
            "text/plain": [
              "<Figure size 720x504 with 1 Axes>"
            ]
          },
          "metadata": {
            "needs_background": "light"
          },
          "output_type": "display_data"
        }
      ],
      "source": [
        "# Attribute 'hr' visualization\n",
        "\n",
        "plt.clf()\n",
        "plt.figure(figsize=(10,7))\n",
        "ax = sns.countplot(x='hr', data=dataset, palette=\"GnBu_d\")\n",
        "ax.set_title('Number of accidents during 24-hours')\n",
        "ax.set_xlabel('Hour')\n",
        "ax.set_ylabel('Number of accidents')\n",
        "plt.show()"
      ]
    },
    {
      "cell_type": "code",
      "execution_count": 9,
      "metadata": {
        "colab": {
          "base_uri": "https://localhost:8080/",
          "height": 337
        },
        "id": "sf8g19kzrzOi",
        "outputId": "7a61db73-1a18-4bb2-fb7f-54f0bc0a95f2"
      },
      "outputs": [
        {
          "data": {
            "text/html": [
              "<div>\n",
              "<style scoped>\n",
              "    .dataframe tbody tr th:only-of-type {\n",
              "        vertical-align: middle;\n",
              "    }\n",
              "\n",
              "    .dataframe tbody tr th {\n",
              "        vertical-align: top;\n",
              "    }\n",
              "\n",
              "    .dataframe thead th {\n",
              "        text-align: right;\n",
              "    }\n",
              "</style>\n",
              "<table border=\"1\" class=\"dataframe\">\n",
              "  <thead>\n",
              "    <tr style=\"text-align: right;\">\n",
              "      <th></th>\n",
              "      <th>Num_Acc</th>\n",
              "      <th>an</th>\n",
              "      <th>mois</th>\n",
              "      <th>jour</th>\n",
              "      <th>hrmn</th>\n",
              "      <th>lum</th>\n",
              "      <th>agg</th>\n",
              "      <th>int</th>\n",
              "      <th>atm</th>\n",
              "      <th>col</th>\n",
              "      <th>com</th>\n",
              "      <th>adr</th>\n",
              "      <th>gps</th>\n",
              "      <th>lat</th>\n",
              "      <th>long</th>\n",
              "      <th>dep</th>\n",
              "      <th>hr</th>\n",
              "    </tr>\n",
              "  </thead>\n",
              "  <tbody>\n",
              "    <tr>\n",
              "      <th>0</th>\n",
              "      <td>201600000001</td>\n",
              "      <td>16</td>\n",
              "      <td>2</td>\n",
              "      <td>1</td>\n",
              "      <td>1445</td>\n",
              "      <td>Full day</td>\n",
              "      <td>2</td>\n",
              "      <td>Out of intersection</td>\n",
              "      <td>8.0</td>\n",
              "      <td>3.0</td>\n",
              "      <td>5.0</td>\n",
              "      <td>46, rue Sonneville</td>\n",
              "      <td>M</td>\n",
              "      <td>0.0</td>\n",
              "      <td>0.0</td>\n",
              "      <td>590</td>\n",
              "      <td>14</td>\n",
              "    </tr>\n",
              "    <tr>\n",
              "      <th>1</th>\n",
              "      <td>201600000002</td>\n",
              "      <td>16</td>\n",
              "      <td>3</td>\n",
              "      <td>16</td>\n",
              "      <td>1800</td>\n",
              "      <td>Full day</td>\n",
              "      <td>2</td>\n",
              "      <td>Giratory</td>\n",
              "      <td>1.0</td>\n",
              "      <td>6.0</td>\n",
              "      <td>5.0</td>\n",
              "      <td>1a rue du cimetière</td>\n",
              "      <td>M</td>\n",
              "      <td>0.0</td>\n",
              "      <td>0.0</td>\n",
              "      <td>590</td>\n",
              "      <td>18</td>\n",
              "    </tr>\n",
              "    <tr>\n",
              "      <th>2</th>\n",
              "      <td>201600000003</td>\n",
              "      <td>16</td>\n",
              "      <td>7</td>\n",
              "      <td>13</td>\n",
              "      <td>1900</td>\n",
              "      <td>Full day</td>\n",
              "      <td>1</td>\n",
              "      <td>Out of intersection</td>\n",
              "      <td>1.0</td>\n",
              "      <td>6.0</td>\n",
              "      <td>11.0</td>\n",
              "      <td>NaN</td>\n",
              "      <td>M</td>\n",
              "      <td>0.0</td>\n",
              "      <td>0.0</td>\n",
              "      <td>590</td>\n",
              "      <td>19</td>\n",
              "    </tr>\n",
              "    <tr>\n",
              "      <th>3</th>\n",
              "      <td>201600000004</td>\n",
              "      <td>16</td>\n",
              "      <td>8</td>\n",
              "      <td>15</td>\n",
              "      <td>1930</td>\n",
              "      <td>Twilight or dawn</td>\n",
              "      <td>2</td>\n",
              "      <td>Out of intersection</td>\n",
              "      <td>7.0</td>\n",
              "      <td>3.0</td>\n",
              "      <td>477.0</td>\n",
              "      <td>52 rue victor hugo</td>\n",
              "      <td>M</td>\n",
              "      <td>0.0</td>\n",
              "      <td>0.0</td>\n",
              "      <td>590</td>\n",
              "      <td>19</td>\n",
              "    </tr>\n",
              "    <tr>\n",
              "      <th>4</th>\n",
              "      <td>201600000005</td>\n",
              "      <td>16</td>\n",
              "      <td>12</td>\n",
              "      <td>23</td>\n",
              "      <td>1100</td>\n",
              "      <td>Full day</td>\n",
              "      <td>2</td>\n",
              "      <td>T intersection</td>\n",
              "      <td>1.0</td>\n",
              "      <td>3.0</td>\n",
              "      <td>11.0</td>\n",
              "      <td>rue Joliot curie</td>\n",
              "      <td>M</td>\n",
              "      <td>0.0</td>\n",
              "      <td>0.0</td>\n",
              "      <td>590</td>\n",
              "      <td>11</td>\n",
              "    </tr>\n",
              "  </tbody>\n",
              "</table>\n",
              "</div>"
            ],
            "text/plain": [
              "        Num_Acc  an  mois  jour  hrmn               lum  agg  \\\n",
              "0  201600000001  16     2     1  1445          Full day    2   \n",
              "1  201600000002  16     3    16  1800          Full day    2   \n",
              "2  201600000003  16     7    13  1900          Full day    1   \n",
              "3  201600000004  16     8    15  1930  Twilight or dawn    2   \n",
              "4  201600000005  16    12    23  1100          Full day    2   \n",
              "\n",
              "                   int  atm  col    com                  adr gps  lat long  \\\n",
              "0  Out of intersection  8.0  3.0    5.0   46, rue Sonneville   M  0.0  0.0   \n",
              "1             Giratory  1.0  6.0    5.0  1a rue du cimetière   M  0.0  0.0   \n",
              "2  Out of intersection  1.0  6.0   11.0                  NaN   M  0.0  0.0   \n",
              "3  Out of intersection  7.0  3.0  477.0   52 rue victor hugo   M  0.0  0.0   \n",
              "4       T intersection  1.0  3.0   11.0     rue Joliot curie   M  0.0  0.0   \n",
              "\n",
              "   dep  hr  \n",
              "0  590  14  \n",
              "1  590  18  \n",
              "2  590  19  \n",
              "3  590  19  \n",
              "4  590  11  "
            ]
          },
          "execution_count": 9,
          "metadata": {},
          "output_type": "execute_result"
        }
      ],
      "source": [
        "# change accident location\n",
        "int_dict = {\n",
        "    '1': 'Out of intersection',\n",
        "    '2': 'X intersection',\n",
        "    '3': 'T intersection',\n",
        "    '4': 'Y intersection',\n",
        "    '5': 'More than 4 branches intersection',\n",
        "    '6': 'Giratory',\n",
        "    '7': 'Place',\n",
        "    '8': 'Level crossing',\n",
        "    '9': 'Other'\n",
        "}\n",
        "\n",
        "dataset['int'] = dataset['int'].astype(str) \n",
        "dataset['int'] = dataset['int'].replace(int_dict)\n",
        "dataset['int'] = pd.Categorical(dataset['int'], list(int_dict.values()))\n",
        "dataset.head()"
      ]
    },
    {
      "cell_type": "code",
      "execution_count": 10,
      "metadata": {
        "colab": {
          "base_uri": "https://localhost:8080/",
          "height": 638
        },
        "id": "pbSOSfY8sMiC",
        "outputId": "ade9b28c-95d3-49f0-df33-e0bed0e7bbfa"
      },
      "outputs": [
        {
          "data": {
            "text/plain": [
              "<Figure size 432x288 with 0 Axes>"
            ]
          },
          "metadata": {},
          "output_type": "display_data"
        },
        {
          "data": {
            "image/png": "[encoded data removed]",
            "text/plain": [
              "<Figure size 720x720 with 1 Axes>"
            ]
          },
          "metadata": {
            "needs_background": "light"
          },
          "output_type": "display_data"
        }
      ],
      "source": [
        "# Attribute 'int' visualization\n",
        "\n",
        "plt.clf()\n",
        "plt.figure(figsize=(10,10))\n",
        "ax = sns.countplot(y = 'int', data=dataset)\n",
        "ax.set_title('Number of accidents based on the intersection type')\n",
        "ax.set_xlabel('Number of accidents')\n",
        "ax.set_ylabel('Intersection')\n",
        "plt.show()"
      ]
    },
    {
      "cell_type": "code",
      "execution_count": 11,
      "metadata": {
        "id": "F0gT97i3IQQ6"
      },
      "outputs": [
        {
          "data": {
            "text/html": [
              "<div>\n",
              "<style scoped>\n",
              "    .dataframe tbody tr th:only-of-type {\n",
              "        vertical-align: middle;\n",
              "    }\n",
              "\n",
              "    .dataframe tbody tr th {\n",
              "        vertical-align: top;\n",
              "    }\n",
              "\n",
              "    .dataframe thead th {\n",
              "        text-align: right;\n",
              "    }\n",
              "</style>\n",
              "<table border=\"1\" class=\"dataframe\">\n",
              "  <thead>\n",
              "    <tr style=\"text-align: right;\">\n",
              "      <th></th>\n",
              "      <th>Num_Acc</th>\n",
              "      <th>an</th>\n",
              "      <th>mois</th>\n",
              "      <th>jour</th>\n",
              "      <th>hrmn</th>\n",
              "      <th>lum</th>\n",
              "      <th>agg</th>\n",
              "      <th>int</th>\n",
              "      <th>atm</th>\n",
              "      <th>col</th>\n",
              "      <th>com</th>\n",
              "      <th>adr</th>\n",
              "      <th>gps</th>\n",
              "      <th>lat</th>\n",
              "      <th>long</th>\n",
              "      <th>dep</th>\n",
              "      <th>hr</th>\n",
              "    </tr>\n",
              "  </thead>\n",
              "  <tbody>\n",
              "    <tr>\n",
              "      <th>0</th>\n",
              "      <td>201600000001</td>\n",
              "      <td>16</td>\n",
              "      <td>2</td>\n",
              "      <td>1</td>\n",
              "      <td>1445</td>\n",
              "      <td>Full day</td>\n",
              "      <td>2</td>\n",
              "      <td>Out of intersection</td>\n",
              "      <td>8</td>\n",
              "      <td>3.0</td>\n",
              "      <td>5.0</td>\n",
              "      <td>46, rue Sonneville</td>\n",
              "      <td>M</td>\n",
              "      <td>0.0</td>\n",
              "      <td>0.0</td>\n",
              "      <td>590</td>\n",
              "      <td>14</td>\n",
              "    </tr>\n",
              "    <tr>\n",
              "      <th>1</th>\n",
              "      <td>201600000002</td>\n",
              "      <td>16</td>\n",
              "      <td>3</td>\n",
              "      <td>16</td>\n",
              "      <td>1800</td>\n",
              "      <td>Full day</td>\n",
              "      <td>2</td>\n",
              "      <td>Giratory</td>\n",
              "      <td>1</td>\n",
              "      <td>6.0</td>\n",
              "      <td>5.0</td>\n",
              "      <td>1a rue du cimetière</td>\n",
              "      <td>M</td>\n",
              "      <td>0.0</td>\n",
              "      <td>0.0</td>\n",
              "      <td>590</td>\n",
              "      <td>18</td>\n",
              "    </tr>\n",
              "    <tr>\n",
              "      <th>2</th>\n",
              "      <td>201600000003</td>\n",
              "      <td>16</td>\n",
              "      <td>7</td>\n",
              "      <td>13</td>\n",
              "      <td>1900</td>\n",
              "      <td>Full day</td>\n",
              "      <td>1</td>\n",
              "      <td>Out of intersection</td>\n",
              "      <td>1</td>\n",
              "      <td>6.0</td>\n",
              "      <td>11.0</td>\n",
              "      <td>NaN</td>\n",
              "      <td>M</td>\n",
              "      <td>0.0</td>\n",
              "      <td>0.0</td>\n",
              "      <td>590</td>\n",
              "      <td>19</td>\n",
              "    </tr>\n",
              "    <tr>\n",
              "      <th>3</th>\n",
              "      <td>201600000004</td>\n",
              "      <td>16</td>\n",
              "      <td>8</td>\n",
              "      <td>15</td>\n",
              "      <td>1930</td>\n",
              "      <td>Twilight or dawn</td>\n",
              "      <td>2</td>\n",
              "      <td>Out of intersection</td>\n",
              "      <td>7</td>\n",
              "      <td>3.0</td>\n",
              "      <td>477.0</td>\n",
              "      <td>52 rue victor hugo</td>\n",
              "      <td>M</td>\n",
              "      <td>0.0</td>\n",
              "      <td>0.0</td>\n",
              "      <td>590</td>\n",
              "      <td>19</td>\n",
              "    </tr>\n",
              "    <tr>\n",
              "      <th>4</th>\n",
              "      <td>201600000005</td>\n",
              "      <td>16</td>\n",
              "      <td>12</td>\n",
              "      <td>23</td>\n",
              "      <td>1100</td>\n",
              "      <td>Full day</td>\n",
              "      <td>2</td>\n",
              "      <td>T intersection</td>\n",
              "      <td>1</td>\n",
              "      <td>3.0</td>\n",
              "      <td>11.0</td>\n",
              "      <td>rue Joliot curie</td>\n",
              "      <td>M</td>\n",
              "      <td>0.0</td>\n",
              "      <td>0.0</td>\n",
              "      <td>590</td>\n",
              "      <td>11</td>\n",
              "    </tr>\n",
              "  </tbody>\n",
              "</table>\n",
              "</div>"
            ],
            "text/plain": [
              "        Num_Acc  an  mois  jour  hrmn               lum  agg  \\\n",
              "0  201600000001  16     2     1  1445          Full day    2   \n",
              "1  201600000002  16     3    16  1800          Full day    2   \n",
              "2  201600000003  16     7    13  1900          Full day    1   \n",
              "3  201600000004  16     8    15  1930  Twilight or dawn    2   \n",
              "4  201600000005  16    12    23  1100          Full day    2   \n",
              "\n",
              "                   int  atm  col    com                  adr gps  lat long  \\\n",
              "0  Out of intersection    8  3.0    5.0   46, rue Sonneville   M  0.0  0.0   \n",
              "1             Giratory    1  6.0    5.0  1a rue du cimetière   M  0.0  0.0   \n",
              "2  Out of intersection    1  6.0   11.0                  NaN   M  0.0  0.0   \n",
              "3  Out of intersection    7  3.0  477.0   52 rue victor hugo   M  0.0  0.0   \n",
              "4       T intersection    1  3.0   11.0     rue Joliot curie   M  0.0  0.0   \n",
              "\n",
              "   dep  hr  \n",
              "0  590  14  \n",
              "1  590  18  \n",
              "2  590  19  \n",
              "3  590  19  \n",
              "4  590  11  "
            ]
          },
          "execution_count": 11,
          "metadata": {},
          "output_type": "execute_result"
        }
      ],
      "source": [
        "# change 'atm' attribute data type from 'float64' to 'int64'\n",
        "\n",
        "dataset[\"atm\"] = dataset[\"atm\"].astype(\"Int64\")\n",
        "dataset.head()"
      ]
    },
    {
      "cell_type": "code",
      "execution_count": 12,
      "metadata": {
        "colab": {
          "base_uri": "https://localhost:8080/",
          "height": 337
        },
        "id": "2HE_nK6VF2It",
        "outputId": "0b37596a-9994-480b-b4f7-8aaaded3b4d8"
      },
      "outputs": [
        {
          "data": {
            "text/html": [
              "<div>\n",
              "<style scoped>\n",
              "    .dataframe tbody tr th:only-of-type {\n",
              "        vertical-align: middle;\n",
              "    }\n",
              "\n",
              "    .dataframe tbody tr th {\n",
              "        vertical-align: top;\n",
              "    }\n",
              "\n",
              "    .dataframe thead th {\n",
              "        text-align: right;\n",
              "    }\n",
              "</style>\n",
              "<table border=\"1\" class=\"dataframe\">\n",
              "  <thead>\n",
              "    <tr style=\"text-align: right;\">\n",
              "      <th></th>\n",
              "      <th>Num_Acc</th>\n",
              "      <th>an</th>\n",
              "      <th>mois</th>\n",
              "      <th>jour</th>\n",
              "      <th>hrmn</th>\n",
              "      <th>lum</th>\n",
              "      <th>agg</th>\n",
              "      <th>int</th>\n",
              "      <th>atm</th>\n",
              "      <th>col</th>\n",
              "      <th>com</th>\n",
              "      <th>adr</th>\n",
              "      <th>gps</th>\n",
              "      <th>lat</th>\n",
              "      <th>long</th>\n",
              "      <th>dep</th>\n",
              "      <th>hr</th>\n",
              "    </tr>\n",
              "  </thead>\n",
              "  <tbody>\n",
              "    <tr>\n",
              "      <th>0</th>\n",
              "      <td>201600000001</td>\n",
              "      <td>16</td>\n",
              "      <td>2</td>\n",
              "      <td>1</td>\n",
              "      <td>1445</td>\n",
              "      <td>Full day</td>\n",
              "      <td>2</td>\n",
              "      <td>Out of intersection</td>\n",
              "      <td>Cloudy weather</td>\n",
              "      <td>3.0</td>\n",
              "      <td>5.0</td>\n",
              "      <td>46, rue Sonneville</td>\n",
              "      <td>M</td>\n",
              "      <td>0.0</td>\n",
              "      <td>0.0</td>\n",
              "      <td>590</td>\n",
              "      <td>14</td>\n",
              "    </tr>\n",
              "    <tr>\n",
              "      <th>1</th>\n",
              "      <td>201600000002</td>\n",
              "      <td>16</td>\n",
              "      <td>3</td>\n",
              "      <td>16</td>\n",
              "      <td>1800</td>\n",
              "      <td>Full day</td>\n",
              "      <td>2</td>\n",
              "      <td>Giratory</td>\n",
              "      <td>Normal</td>\n",
              "      <td>6.0</td>\n",
              "      <td>5.0</td>\n",
              "      <td>1a rue du cimetière</td>\n",
              "      <td>M</td>\n",
              "      <td>0.0</td>\n",
              "      <td>0.0</td>\n",
              "      <td>590</td>\n",
              "      <td>18</td>\n",
              "    </tr>\n",
              "    <tr>\n",
              "      <th>2</th>\n",
              "      <td>201600000003</td>\n",
              "      <td>16</td>\n",
              "      <td>7</td>\n",
              "      <td>13</td>\n",
              "      <td>1900</td>\n",
              "      <td>Full day</td>\n",
              "      <td>1</td>\n",
              "      <td>Out of intersection</td>\n",
              "      <td>Normal</td>\n",
              "      <td>6.0</td>\n",
              "      <td>11.0</td>\n",
              "      <td>NaN</td>\n",
              "      <td>M</td>\n",
              "      <td>0.0</td>\n",
              "      <td>0.0</td>\n",
              "      <td>590</td>\n",
              "      <td>19</td>\n",
              "    </tr>\n",
              "    <tr>\n",
              "      <th>3</th>\n",
              "      <td>201600000004</td>\n",
              "      <td>16</td>\n",
              "      <td>8</td>\n",
              "      <td>15</td>\n",
              "      <td>1930</td>\n",
              "      <td>Twilight or dawn</td>\n",
              "      <td>2</td>\n",
              "      <td>Out of intersection</td>\n",
              "      <td>Dazzling weather</td>\n",
              "      <td>3.0</td>\n",
              "      <td>477.0</td>\n",
              "      <td>52 rue victor hugo</td>\n",
              "      <td>M</td>\n",
              "      <td>0.0</td>\n",
              "      <td>0.0</td>\n",
              "      <td>590</td>\n",
              "      <td>19</td>\n",
              "    </tr>\n",
              "    <tr>\n",
              "      <th>4</th>\n",
              "      <td>201600000005</td>\n",
              "      <td>16</td>\n",
              "      <td>12</td>\n",
              "      <td>23</td>\n",
              "      <td>1100</td>\n",
              "      <td>Full day</td>\n",
              "      <td>2</td>\n",
              "      <td>T intersection</td>\n",
              "      <td>Normal</td>\n",
              "      <td>3.0</td>\n",
              "      <td>11.0</td>\n",
              "      <td>rue Joliot curie</td>\n",
              "      <td>M</td>\n",
              "      <td>0.0</td>\n",
              "      <td>0.0</td>\n",
              "      <td>590</td>\n",
              "      <td>11</td>\n",
              "    </tr>\n",
              "  </tbody>\n",
              "</table>\n",
              "</div>"
            ],
            "text/plain": [
              "        Num_Acc  an  mois  jour  hrmn               lum  agg  \\\n",
              "0  201600000001  16     2     1  1445          Full day    2   \n",
              "1  201600000002  16     3    16  1800          Full day    2   \n",
              "2  201600000003  16     7    13  1900          Full day    1   \n",
              "3  201600000004  16     8    15  1930  Twilight or dawn    2   \n",
              "4  201600000005  16    12    23  1100          Full day    2   \n",
              "\n",
              "                   int               atm  col    com                  adr gps  \\\n",
              "0  Out of intersection    Cloudy weather  3.0    5.0   46, rue Sonneville   M   \n",
              "1             Giratory            Normal  6.0    5.0  1a rue du cimetière   M   \n",
              "2  Out of intersection            Normal  6.0   11.0                  NaN   M   \n",
              "3  Out of intersection  Dazzling weather  3.0  477.0   52 rue victor hugo   M   \n",
              "4       T intersection            Normal  3.0   11.0     rue Joliot curie   M   \n",
              "\n",
              "   lat long  dep  hr  \n",
              "0  0.0  0.0  590  14  \n",
              "1  0.0  0.0  590  18  \n",
              "2  0.0  0.0  590  19  \n",
              "3  0.0  0.0  590  19  \n",
              "4  0.0  0.0  590  11  "
            ]
          },
          "execution_count": 12,
          "metadata": {},
          "output_type": "execute_result"
        }
      ],
      "source": [
        "wheater_dict = {\n",
        "    '1': 'Normal',\n",
        "    '2': 'Light rain',\n",
        "    '3': 'Heavy rain',\n",
        "    '4': 'Snow - hail',\n",
        "    '5': 'Fog - smoke',\n",
        "    '6': 'Strong wind - storm',\n",
        "    '7': 'Dazzling weather',\n",
        "    '8': 'Cloudy weather',\n",
        "    '9': 'Other'\n",
        "}\n",
        "\n",
        "dataset['atm'] = dataset['atm'].astype(str) \n",
        "dataset['atm'] = dataset['atm'].replace(wheater_dict)\n",
        "dataset['atm'] = pd.Categorical(dataset['atm'], list(wheater_dict.values()))\n",
        "dataset.head()"
      ]
    },
    {
      "cell_type": "code",
      "execution_count": 13,
      "metadata": {
        "colab": {
          "base_uri": "https://localhost:8080/",
          "height": 638
        },
        "id": "r9pcNc3tJ6lt",
        "outputId": "44b0f855-7c4d-41b7-f023-30d2c05f10a8"
      },
      "outputs": [
        {
          "data": {
            "text/plain": [
              "<Figure size 432x288 with 0 Axes>"
            ]
          },
          "metadata": {},
          "output_type": "display_data"
        },
        {
          "data": {
            "image/png": "[encoded data removed]",
            "text/plain": [
              "<Figure size 720x720 with 1 Axes>"
            ]
          },
          "metadata": {
            "needs_background": "light"
          },
          "output_type": "display_data"
        }
      ],
      "source": [
        "# Attribute 'atm' visualization\n",
        "\n",
        "plt.clf()\n",
        "plt.figure(figsize=(10,10))\n",
        "ax = sns.countplot(y = 'atm', data=dataset)\n",
        "ax.set_title('Weather conditions at the time of the accident')\n",
        "ax.set_xlabel('Number of accidents')\n",
        "ax.set_ylabel('Weather')\n",
        "plt.show()"
      ]
    },
    {
      "cell_type": "code",
      "execution_count": 14,
      "metadata": {
        "colab": {
          "base_uri": "https://localhost:8080/",
          "height": 337
        },
        "id": "aa0CfEPoSbAD",
        "outputId": "8726ae99-7d4c-4d86-f1ac-68a514e17db9"
      },
      "outputs": [
        {
          "data": {
            "text/html": [
              "<div>\n",
              "<style scoped>\n",
              "    .dataframe tbody tr th:only-of-type {\n",
              "        vertical-align: middle;\n",
              "    }\n",
              "\n",
              "    .dataframe tbody tr th {\n",
              "        vertical-align: top;\n",
              "    }\n",
              "\n",
              "    .dataframe thead th {\n",
              "        text-align: right;\n",
              "    }\n",
              "</style>\n",
              "<table border=\"1\" class=\"dataframe\">\n",
              "  <thead>\n",
              "    <tr style=\"text-align: right;\">\n",
              "      <th></th>\n",
              "      <th>Num_Acc</th>\n",
              "      <th>an</th>\n",
              "      <th>mois</th>\n",
              "      <th>jour</th>\n",
              "      <th>hrmn</th>\n",
              "      <th>lum</th>\n",
              "      <th>agg</th>\n",
              "      <th>int</th>\n",
              "      <th>atm</th>\n",
              "      <th>col</th>\n",
              "      <th>com</th>\n",
              "      <th>adr</th>\n",
              "      <th>gps</th>\n",
              "      <th>lat</th>\n",
              "      <th>long</th>\n",
              "      <th>dep</th>\n",
              "      <th>hr</th>\n",
              "    </tr>\n",
              "  </thead>\n",
              "  <tbody>\n",
              "    <tr>\n",
              "      <th>0</th>\n",
              "      <td>201600000001</td>\n",
              "      <td>16</td>\n",
              "      <td>2</td>\n",
              "      <td>1</td>\n",
              "      <td>1445</td>\n",
              "      <td>Full day</td>\n",
              "      <td>2</td>\n",
              "      <td>Out of intersection</td>\n",
              "      <td>Cloudy weather</td>\n",
              "      <td>3</td>\n",
              "      <td>5.0</td>\n",
              "      <td>46, rue Sonneville</td>\n",
              "      <td>M</td>\n",
              "      <td>0.0</td>\n",
              "      <td>0.0</td>\n",
              "      <td>590</td>\n",
              "      <td>14</td>\n",
              "    </tr>\n",
              "    <tr>\n",
              "      <th>1</th>\n",
              "      <td>201600000002</td>\n",
              "      <td>16</td>\n",
              "      <td>3</td>\n",
              "      <td>16</td>\n",
              "      <td>1800</td>\n",
              "      <td>Full day</td>\n",
              "      <td>2</td>\n",
              "      <td>Giratory</td>\n",
              "      <td>Normal</td>\n",
              "      <td>6</td>\n",
              "      <td>5.0</td>\n",
              "      <td>1a rue du cimetière</td>\n",
              "      <td>M</td>\n",
              "      <td>0.0</td>\n",
              "      <td>0.0</td>\n",
              "      <td>590</td>\n",
              "      <td>18</td>\n",
              "    </tr>\n",
              "    <tr>\n",
              "      <th>2</th>\n",
              "      <td>201600000003</td>\n",
              "      <td>16</td>\n",
              "      <td>7</td>\n",
              "      <td>13</td>\n",
              "      <td>1900</td>\n",
              "      <td>Full day</td>\n",
              "      <td>1</td>\n",
              "      <td>Out of intersection</td>\n",
              "      <td>Normal</td>\n",
              "      <td>6</td>\n",
              "      <td>11.0</td>\n",
              "      <td>NaN</td>\n",
              "      <td>M</td>\n",
              "      <td>0.0</td>\n",
              "      <td>0.0</td>\n",
              "      <td>590</td>\n",
              "      <td>19</td>\n",
              "    </tr>\n",
              "    <tr>\n",
              "      <th>3</th>\n",
              "      <td>201600000004</td>\n",
              "      <td>16</td>\n",
              "      <td>8</td>\n",
              "      <td>15</td>\n",
              "      <td>1930</td>\n",
              "      <td>Twilight or dawn</td>\n",
              "      <td>2</td>\n",
              "      <td>Out of intersection</td>\n",
              "      <td>Dazzling weather</td>\n",
              "      <td>3</td>\n",
              "      <td>477.0</td>\n",
              "      <td>52 rue victor hugo</td>\n",
              "      <td>M</td>\n",
              "      <td>0.0</td>\n",
              "      <td>0.0</td>\n",
              "      <td>590</td>\n",
              "      <td>19</td>\n",
              "    </tr>\n",
              "    <tr>\n",
              "      <th>4</th>\n",
              "      <td>201600000005</td>\n",
              "      <td>16</td>\n",
              "      <td>12</td>\n",
              "      <td>23</td>\n",
              "      <td>1100</td>\n",
              "      <td>Full day</td>\n",
              "      <td>2</td>\n",
              "      <td>T intersection</td>\n",
              "      <td>Normal</td>\n",
              "      <td>3</td>\n",
              "      <td>11.0</td>\n",
              "      <td>rue Joliot curie</td>\n",
              "      <td>M</td>\n",
              "      <td>0.0</td>\n",
              "      <td>0.0</td>\n",
              "      <td>590</td>\n",
              "      <td>11</td>\n",
              "    </tr>\n",
              "  </tbody>\n",
              "</table>\n",
              "</div>"
            ],
            "text/plain": [
              "        Num_Acc  an  mois  jour  hrmn               lum  agg  \\\n",
              "0  201600000001  16     2     1  1445          Full day    2   \n",
              "1  201600000002  16     3    16  1800          Full day    2   \n",
              "2  201600000003  16     7    13  1900          Full day    1   \n",
              "3  201600000004  16     8    15  1930  Twilight or dawn    2   \n",
              "4  201600000005  16    12    23  1100          Full day    2   \n",
              "\n",
              "                   int               atm  col    com                  adr gps  \\\n",
              "0  Out of intersection    Cloudy weather    3    5.0   46, rue Sonneville   M   \n",
              "1             Giratory            Normal    6    5.0  1a rue du cimetière   M   \n",
              "2  Out of intersection            Normal    6   11.0                  NaN   M   \n",
              "3  Out of intersection  Dazzling weather    3  477.0   52 rue victor hugo   M   \n",
              "4       T intersection            Normal    3   11.0     rue Joliot curie   M   \n",
              "\n",
              "   lat long  dep  hr  \n",
              "0  0.0  0.0  590  14  \n",
              "1  0.0  0.0  590  18  \n",
              "2  0.0  0.0  590  19  \n",
              "3  0.0  0.0  590  19  \n",
              "4  0.0  0.0  590  11  "
            ]
          },
          "execution_count": 14,
          "metadata": {},
          "output_type": "execute_result"
        }
      ],
      "source": [
        "# change 'col' attribute data type from 'float64' to 'int64'\n",
        "\n",
        "dataset[\"col\"] = dataset[\"col\"].astype(\"Int64\")\n",
        "dataset.head()"
      ]
    },
    {
      "cell_type": "code",
      "execution_count": 15,
      "metadata": {
        "colab": {
          "base_uri": "https://localhost:8080/",
          "height": 441
        },
        "id": "TA_hfpOFSKs_",
        "outputId": "143bd94c-5fff-4700-91ba-8e6b9c674fa1"
      },
      "outputs": [
        {
          "data": {
            "text/html": [
              "<div>\n",
              "<style scoped>\n",
              "    .dataframe tbody tr th:only-of-type {\n",
              "        vertical-align: middle;\n",
              "    }\n",
              "\n",
              "    .dataframe tbody tr th {\n",
              "        vertical-align: top;\n",
              "    }\n",
              "\n",
              "    .dataframe thead th {\n",
              "        text-align: right;\n",
              "    }\n",
              "</style>\n",
              "<table border=\"1\" class=\"dataframe\">\n",
              "  <thead>\n",
              "    <tr style=\"text-align: right;\">\n",
              "      <th></th>\n",
              "      <th>Num_Acc</th>\n",
              "      <th>an</th>\n",
              "      <th>mois</th>\n",
              "      <th>jour</th>\n",
              "      <th>hrmn</th>\n",
              "      <th>lum</th>\n",
              "      <th>agg</th>\n",
              "      <th>int</th>\n",
              "      <th>atm</th>\n",
              "      <th>col</th>\n",
              "      <th>com</th>\n",
              "      <th>adr</th>\n",
              "      <th>gps</th>\n",
              "      <th>lat</th>\n",
              "      <th>long</th>\n",
              "      <th>dep</th>\n",
              "      <th>hr</th>\n",
              "    </tr>\n",
              "  </thead>\n",
              "  <tbody>\n",
              "    <tr>\n",
              "      <th>0</th>\n",
              "      <td>201600000001</td>\n",
              "      <td>16</td>\n",
              "      <td>2</td>\n",
              "      <td>1</td>\n",
              "      <td>1445</td>\n",
              "      <td>Full day</td>\n",
              "      <td>2</td>\n",
              "      <td>Out of intersection</td>\n",
              "      <td>Cloudy weather</td>\n",
              "      <td>Two vehicles - by the side</td>\n",
              "      <td>5.0</td>\n",
              "      <td>46, rue Sonneville</td>\n",
              "      <td>M</td>\n",
              "      <td>0.0</td>\n",
              "      <td>0.0</td>\n",
              "      <td>590</td>\n",
              "      <td>14</td>\n",
              "    </tr>\n",
              "    <tr>\n",
              "      <th>1</th>\n",
              "      <td>201600000002</td>\n",
              "      <td>16</td>\n",
              "      <td>3</td>\n",
              "      <td>16</td>\n",
              "      <td>1800</td>\n",
              "      <td>Full day</td>\n",
              "      <td>2</td>\n",
              "      <td>Giratory</td>\n",
              "      <td>Normal</td>\n",
              "      <td>Other collision</td>\n",
              "      <td>5.0</td>\n",
              "      <td>1a rue du cimetière</td>\n",
              "      <td>M</td>\n",
              "      <td>0.0</td>\n",
              "      <td>0.0</td>\n",
              "      <td>590</td>\n",
              "      <td>18</td>\n",
              "    </tr>\n",
              "    <tr>\n",
              "      <th>2</th>\n",
              "      <td>201600000003</td>\n",
              "      <td>16</td>\n",
              "      <td>7</td>\n",
              "      <td>13</td>\n",
              "      <td>1900</td>\n",
              "      <td>Full day</td>\n",
              "      <td>1</td>\n",
              "      <td>Out of intersection</td>\n",
              "      <td>Normal</td>\n",
              "      <td>Other collision</td>\n",
              "      <td>11.0</td>\n",
              "      <td>NaN</td>\n",
              "      <td>M</td>\n",
              "      <td>0.0</td>\n",
              "      <td>0.0</td>\n",
              "      <td>590</td>\n",
              "      <td>19</td>\n",
              "    </tr>\n",
              "    <tr>\n",
              "      <th>3</th>\n",
              "      <td>201600000004</td>\n",
              "      <td>16</td>\n",
              "      <td>8</td>\n",
              "      <td>15</td>\n",
              "      <td>1930</td>\n",
              "      <td>Twilight or dawn</td>\n",
              "      <td>2</td>\n",
              "      <td>Out of intersection</td>\n",
              "      <td>Dazzling weather</td>\n",
              "      <td>Two vehicles - by the side</td>\n",
              "      <td>477.0</td>\n",
              "      <td>52 rue victor hugo</td>\n",
              "      <td>M</td>\n",
              "      <td>0.0</td>\n",
              "      <td>0.0</td>\n",
              "      <td>590</td>\n",
              "      <td>19</td>\n",
              "    </tr>\n",
              "    <tr>\n",
              "      <th>4</th>\n",
              "      <td>201600000005</td>\n",
              "      <td>16</td>\n",
              "      <td>12</td>\n",
              "      <td>23</td>\n",
              "      <td>1100</td>\n",
              "      <td>Full day</td>\n",
              "      <td>2</td>\n",
              "      <td>T intersection</td>\n",
              "      <td>Normal</td>\n",
              "      <td>Two vehicles - by the side</td>\n",
              "      <td>11.0</td>\n",
              "      <td>rue Joliot curie</td>\n",
              "      <td>M</td>\n",
              "      <td>0.0</td>\n",
              "      <td>0.0</td>\n",
              "      <td>590</td>\n",
              "      <td>11</td>\n",
              "    </tr>\n",
              "  </tbody>\n",
              "</table>\n",
              "</div>"
            ],
            "text/plain": [
              "        Num_Acc  an  mois  jour  hrmn               lum  agg  \\\n",
              "0  201600000001  16     2     1  1445          Full day    2   \n",
              "1  201600000002  16     3    16  1800          Full day    2   \n",
              "2  201600000003  16     7    13  1900          Full day    1   \n",
              "3  201600000004  16     8    15  1930  Twilight or dawn    2   \n",
              "4  201600000005  16    12    23  1100          Full day    2   \n",
              "\n",
              "                   int               atm                         col    com  \\\n",
              "0  Out of intersection    Cloudy weather  Two vehicles - by the side    5.0   \n",
              "1             Giratory            Normal             Other collision    5.0   \n",
              "2  Out of intersection            Normal             Other collision   11.0   \n",
              "3  Out of intersection  Dazzling weather  Two vehicles - by the side  477.0   \n",
              "4       T intersection            Normal  Two vehicles - by the side   11.0   \n",
              "\n",
              "                   adr gps  lat long  dep  hr  \n",
              "0   46, rue Sonneville   M  0.0  0.0  590  14  \n",
              "1  1a rue du cimetière   M  0.0  0.0  590  18  \n",
              "2                  NaN   M  0.0  0.0  590  19  \n",
              "3   52 rue victor hugo   M  0.0  0.0  590  19  \n",
              "4     rue Joliot curie   M  0.0  0.0  590  11  "
            ]
          },
          "execution_count": 15,
          "metadata": {},
          "output_type": "execute_result"
        }
      ],
      "source": [
        "collision_dict = {\n",
        "    '1': 'Two vehicles - frontal',\n",
        "    '2': 'Two vehicles - from the rear',\n",
        "    '3': 'Two vehicles - by the side',\n",
        "    '4': 'Three vehicles and more - in chain',\n",
        "    '5': 'Three or more vehicles - multiple collisions',\n",
        "    '6': 'Other collision',\n",
        "    '7': 'Without collision'\n",
        "}\n",
        "\n",
        "dataset['col'] = dataset['col'].astype(str) \n",
        "dataset['col'] = dataset['col'].replace(collision_dict)\n",
        "dataset['col'] = pd.Categorical(dataset['col'], list(collision_dict.values()))\n",
        "dataset.head()"
      ]
    },
    {
      "cell_type": "code",
      "execution_count": 16,
      "metadata": {
        "colab": {
          "base_uri": "https://localhost:8080/",
          "height": 469
        },
        "id": "L2Mxuv7NORCj",
        "outputId": "cc5e9b96-4ce4-49ef-ccf0-25c3a7b244de"
      },
      "outputs": [
        {
          "data": {
            "text/plain": [
              "<AxesSubplot:xlabel='int', ylabel='col'>"
            ]
          },
          "execution_count": 16,
          "metadata": {},
          "output_type": "execute_result"
        },
        {
          "data": {
            "image/png": "[encoded data removed]",
            "text/plain": [
              "<Figure size 432x288 with 2 Axes>"
            ]
          },
          "metadata": {
            "needs_background": "light"
          },
          "output_type": "display_data"
        }
      ],
      "source": [
        "# visualization\n",
        "\n",
        "pivot = dataset.pivot_table(\n",
        "    index=[\"col\"],\n",
        "    columns=[\"int\"],\n",
        "    values=\"Num_Acc\")\n",
        "sns.heatmap(pivot)"
      ]
    },
    {
      "cell_type": "markdown",
      "metadata": {},
      "source": [
        "#### Read Secondary Dataset"
      ]
    },
    {
      "cell_type": "code",
      "execution_count": 17,
      "metadata": {
        "colab": {
          "base_uri": "https://localhost:8080/",
          "height": 206
        },
        "id": "clUrpzsEuMFI",
        "outputId": "0b1d6e2a-ae84-44c8-8b88-67c272b89e49"
      },
      "outputs": [
        {
          "data": {
            "text/html": [
              "<div>\n",
              "<style scoped>\n",
              "    .dataframe tbody tr th:only-of-type {\n",
              "        vertical-align: middle;\n",
              "    }\n",
              "\n",
              "    .dataframe tbody tr th {\n",
              "        vertical-align: top;\n",
              "    }\n",
              "\n",
              "    .dataframe thead th {\n",
              "        text-align: right;\n",
              "    }\n",
              "</style>\n",
              "<table border=\"1\" class=\"dataframe\">\n",
              "  <thead>\n",
              "    <tr style=\"text-align: right;\">\n",
              "      <th></th>\n",
              "      <th>Num_Acc</th>\n",
              "      <th>place</th>\n",
              "      <th>catu</th>\n",
              "      <th>grav</th>\n",
              "      <th>sexe</th>\n",
              "      <th>trajet</th>\n",
              "      <th>secu</th>\n",
              "      <th>locp</th>\n",
              "      <th>actp</th>\n",
              "      <th>etatp</th>\n",
              "      <th>an_nais</th>\n",
              "      <th>num_veh</th>\n",
              "    </tr>\n",
              "  </thead>\n",
              "  <tbody>\n",
              "    <tr>\n",
              "      <th>0</th>\n",
              "      <td>201600000001</td>\n",
              "      <td>1.0</td>\n",
              "      <td>1</td>\n",
              "      <td>1</td>\n",
              "      <td>2</td>\n",
              "      <td>0.0</td>\n",
              "      <td>11.0</td>\n",
              "      <td>0.0</td>\n",
              "      <td>0.0</td>\n",
              "      <td>0.0</td>\n",
              "      <td>1983.0</td>\n",
              "      <td>B02</td>\n",
              "    </tr>\n",
              "    <tr>\n",
              "      <th>1</th>\n",
              "      <td>201600000001</td>\n",
              "      <td>1.0</td>\n",
              "      <td>1</td>\n",
              "      <td>3</td>\n",
              "      <td>1</td>\n",
              "      <td>9.0</td>\n",
              "      <td>21.0</td>\n",
              "      <td>0.0</td>\n",
              "      <td>0.0</td>\n",
              "      <td>0.0</td>\n",
              "      <td>2001.0</td>\n",
              "      <td>A01</td>\n",
              "    </tr>\n",
              "    <tr>\n",
              "      <th>2</th>\n",
              "      <td>201600000002</td>\n",
              "      <td>1.0</td>\n",
              "      <td>1</td>\n",
              "      <td>3</td>\n",
              "      <td>1</td>\n",
              "      <td>5.0</td>\n",
              "      <td>11.0</td>\n",
              "      <td>0.0</td>\n",
              "      <td>0.0</td>\n",
              "      <td>0.0</td>\n",
              "      <td>1960.0</td>\n",
              "      <td>A01</td>\n",
              "    </tr>\n",
              "    <tr>\n",
              "      <th>3</th>\n",
              "      <td>201600000002</td>\n",
              "      <td>2.0</td>\n",
              "      <td>2</td>\n",
              "      <td>3</td>\n",
              "      <td>1</td>\n",
              "      <td>0.0</td>\n",
              "      <td>11.0</td>\n",
              "      <td>0.0</td>\n",
              "      <td>0.0</td>\n",
              "      <td>0.0</td>\n",
              "      <td>2000.0</td>\n",
              "      <td>A01</td>\n",
              "    </tr>\n",
              "    <tr>\n",
              "      <th>4</th>\n",
              "      <td>201600000002</td>\n",
              "      <td>3.0</td>\n",
              "      <td>2</td>\n",
              "      <td>3</td>\n",
              "      <td>2</td>\n",
              "      <td>0.0</td>\n",
              "      <td>11.0</td>\n",
              "      <td>0.0</td>\n",
              "      <td>0.0</td>\n",
              "      <td>0.0</td>\n",
              "      <td>1962.0</td>\n",
              "      <td>A01</td>\n",
              "    </tr>\n",
              "  </tbody>\n",
              "</table>\n",
              "</div>"
            ],
            "text/plain": [
              "        Num_Acc  place  catu  grav  sexe  trajet  secu  locp  actp  etatp  \\\n",
              "0  201600000001    1.0     1     1     2     0.0  11.0   0.0   0.0    0.0   \n",
              "1  201600000001    1.0     1     3     1     9.0  21.0   0.0   0.0    0.0   \n",
              "2  201600000002    1.0     1     3     1     5.0  11.0   0.0   0.0    0.0   \n",
              "3  201600000002    2.0     2     3     1     0.0  11.0   0.0   0.0    0.0   \n",
              "4  201600000002    3.0     2     3     2     0.0  11.0   0.0   0.0    0.0   \n",
              "\n",
              "   an_nais num_veh  \n",
              "0   1983.0     B02  \n",
              "1   2001.0     A01  \n",
              "2   1960.0     A01  \n",
              "3   2000.0     A01  \n",
              "4   1962.0     A01  "
            ]
          },
          "execution_count": 17,
          "metadata": {},
          "output_type": "execute_result"
        }
      ],
      "source": [
        "users = pd.read_csv('dataset/users.csv', encoding='latin1')\n",
        "users.head()"
      ]
    },
    {
      "cell_type": "code",
      "execution_count": 18,
      "metadata": {
        "colab": {
          "base_uri": "https://localhost:8080/"
        },
        "id": "5mXT3yqOv0_k",
        "outputId": "12eab90b-6979-4265-d25f-16e05df9a248"
      },
      "outputs": [
        {
          "data": {
            "text/plain": [
              "Index(['place', 'trajet', 'secu', 'locp', 'actp', 'etatp', 'an_nais'], dtype='object')"
            ]
          },
          "execution_count": 18,
          "metadata": {},
          "output_type": "execute_result"
        }
      ],
      "source": [
        "users.columns[users.isna().sum() != 0]"
      ]
    },
    {
      "cell_type": "code",
      "execution_count": 19,
      "metadata": {
        "colab": {
          "base_uri": "https://localhost:8080/"
        },
        "id": "68CaFce5wJsW",
        "outputId": "4ed8d709-b19e-46af-af90-4c60e98cd9da"
      },
      "outputs": [
        {
          "data": {
            "text/plain": [
              "0.02316518346166455"
            ]
          },
          "execution_count": 19,
          "metadata": {},
          "output_type": "execute_result"
        }
      ],
      "source": [
        "nans = users.isna()['secu'].sum() / users.shape[0]\n",
        "nans"
      ]
    },
    {
      "cell_type": "code",
      "execution_count": 20,
      "metadata": {
        "id": "96A85G2SwOMy"
      },
      "outputs": [],
      "source": [
        "users = users.dropna(subset = ['secu'], axis='rows')"
      ]
    },
    {
      "cell_type": "code",
      "execution_count": 21,
      "metadata": {
        "id": "RaFXc9eWwTFx"
      },
      "outputs": [],
      "source": [
        "users['grav'] = users['grav'].astype(str) \n",
        "users['grav'] = users['grav'].replace({'1': 'unscathed', '2': 'killed', '3': 'hospitalized', '4': 'light injury'})\n",
        "users['grav'] = pd.Categorical(users['grav'], ['unscathed', 'light injury', 'hospitalized', 'killed'])"
      ]
    },
    {
      "cell_type": "code",
      "execution_count": 22,
      "metadata": {
        "id": "9uQ3vPUiw_nV"
      },
      "outputs": [],
      "source": [
        "# Split Secu to two columns - type and if equipment was used and renaming them\n",
        "users.loc[:, 'equipment_used'] = users.loc[:, 'secu'].values % 10"
      ]
    },
    {
      "cell_type": "code",
      "execution_count": 23,
      "metadata": {
        "colab": {
          "base_uri": "https://localhost:8080/",
          "height": 295
        },
        "id": "SKdRwHoSxCvb",
        "outputId": "361496c0-a86a-42b7-c9b7-3794dd34ee09"
      },
      "outputs": [
        {
          "data": {
            "image/png": "[encoded data removed]",
            "text/plain": [
              "<Figure size 432x288 with 1 Axes>"
            ]
          },
          "metadata": {
            "needs_background": "light"
          },
          "output_type": "display_data"
        }
      ],
      "source": [
        "ax = sns.countplot(x = 'grav', hue = 'equipment_used', data=users)\n",
        "ax.set_title('Severity of accident based on using safety equipment')\n",
        "ax.set_ylabel('Number of people')\n",
        "plt.show()"
      ]
    },
    {
      "cell_type": "code",
      "execution_count": 24,
      "metadata": {
        "id": "eg3hHTZFx0wE"
      },
      "outputs": [],
      "source": [
        "users['equipment_used'] = users['equipment_used'].replace(0,1)\n",
        "users['equipment_used'] = users['equipment_used'].astype(int)\n",
        "users['equipment_used'] = users['equipment_used'].astype(str) \n",
        "users['equipment_used'] = users['equipment_used'].replace({'1': 'yes', '2': 'no', '3': 'unknown'})"
      ]
    },
    {
      "cell_type": "code",
      "execution_count": 25,
      "metadata": {
        "colab": {
          "base_uri": "https://localhost:8080/",
          "height": 206
        },
        "id": "7AJ7W6RWx9N0",
        "outputId": "16827acd-3bae-4916-f656-2adb4148cc8c"
      },
      "outputs": [
        {
          "data": {
            "text/html": [
              "<div>\n",
              "<style scoped>\n",
              "    .dataframe tbody tr th:only-of-type {\n",
              "        vertical-align: middle;\n",
              "    }\n",
              "\n",
              "    .dataframe tbody tr th {\n",
              "        vertical-align: top;\n",
              "    }\n",
              "\n",
              "    .dataframe thead th {\n",
              "        text-align: right;\n",
              "    }\n",
              "</style>\n",
              "<table border=\"1\" class=\"dataframe\">\n",
              "  <thead>\n",
              "    <tr style=\"text-align: right;\">\n",
              "      <th></th>\n",
              "      <th>Num_Acc</th>\n",
              "      <th>place</th>\n",
              "      <th>catu</th>\n",
              "      <th>grav</th>\n",
              "      <th>sexe</th>\n",
              "      <th>trajet</th>\n",
              "      <th>secu</th>\n",
              "      <th>locp</th>\n",
              "      <th>actp</th>\n",
              "      <th>etatp</th>\n",
              "      <th>an_nais</th>\n",
              "      <th>num_veh</th>\n",
              "      <th>equipment_used</th>\n",
              "    </tr>\n",
              "  </thead>\n",
              "  <tbody>\n",
              "    <tr>\n",
              "      <th>0</th>\n",
              "      <td>201600000001</td>\n",
              "      <td>1.0</td>\n",
              "      <td>1</td>\n",
              "      <td>unscathed</td>\n",
              "      <td>2</td>\n",
              "      <td>0.0</td>\n",
              "      <td>1.0</td>\n",
              "      <td>0.0</td>\n",
              "      <td>0.0</td>\n",
              "      <td>0.0</td>\n",
              "      <td>1983.0</td>\n",
              "      <td>B02</td>\n",
              "      <td>yes</td>\n",
              "    </tr>\n",
              "    <tr>\n",
              "      <th>1</th>\n",
              "      <td>201600000001</td>\n",
              "      <td>1.0</td>\n",
              "      <td>1</td>\n",
              "      <td>hospitalized</td>\n",
              "      <td>1</td>\n",
              "      <td>9.0</td>\n",
              "      <td>2.0</td>\n",
              "      <td>0.0</td>\n",
              "      <td>0.0</td>\n",
              "      <td>0.0</td>\n",
              "      <td>2001.0</td>\n",
              "      <td>A01</td>\n",
              "      <td>yes</td>\n",
              "    </tr>\n",
              "    <tr>\n",
              "      <th>2</th>\n",
              "      <td>201600000002</td>\n",
              "      <td>1.0</td>\n",
              "      <td>1</td>\n",
              "      <td>hospitalized</td>\n",
              "      <td>1</td>\n",
              "      <td>5.0</td>\n",
              "      <td>1.0</td>\n",
              "      <td>0.0</td>\n",
              "      <td>0.0</td>\n",
              "      <td>0.0</td>\n",
              "      <td>1960.0</td>\n",
              "      <td>A01</td>\n",
              "      <td>yes</td>\n",
              "    </tr>\n",
              "    <tr>\n",
              "      <th>3</th>\n",
              "      <td>201600000002</td>\n",
              "      <td>2.0</td>\n",
              "      <td>2</td>\n",
              "      <td>hospitalized</td>\n",
              "      <td>1</td>\n",
              "      <td>0.0</td>\n",
              "      <td>1.0</td>\n",
              "      <td>0.0</td>\n",
              "      <td>0.0</td>\n",
              "      <td>0.0</td>\n",
              "      <td>2000.0</td>\n",
              "      <td>A01</td>\n",
              "      <td>yes</td>\n",
              "    </tr>\n",
              "    <tr>\n",
              "      <th>4</th>\n",
              "      <td>201600000002</td>\n",
              "      <td>3.0</td>\n",
              "      <td>2</td>\n",
              "      <td>hospitalized</td>\n",
              "      <td>2</td>\n",
              "      <td>0.0</td>\n",
              "      <td>1.0</td>\n",
              "      <td>0.0</td>\n",
              "      <td>0.0</td>\n",
              "      <td>0.0</td>\n",
              "      <td>1962.0</td>\n",
              "      <td>A01</td>\n",
              "      <td>yes</td>\n",
              "    </tr>\n",
              "  </tbody>\n",
              "</table>\n",
              "</div>"
            ],
            "text/plain": [
              "        Num_Acc  place  catu          grav  sexe  trajet  secu  locp  actp  \\\n",
              "0  201600000001    1.0     1     unscathed     2     0.0   1.0   0.0   0.0   \n",
              "1  201600000001    1.0     1  hospitalized     1     9.0   2.0   0.0   0.0   \n",
              "2  201600000002    1.0     1  hospitalized     1     5.0   1.0   0.0   0.0   \n",
              "3  201600000002    2.0     2  hospitalized     1     0.0   1.0   0.0   0.0   \n",
              "4  201600000002    3.0     2  hospitalized     2     0.0   1.0   0.0   0.0   \n",
              "\n",
              "   etatp  an_nais num_veh equipment_used  \n",
              "0    0.0   1983.0     B02            yes  \n",
              "1    0.0   2001.0     A01            yes  \n",
              "2    0.0   1960.0     A01            yes  \n",
              "3    0.0   2000.0     A01            yes  \n",
              "4    0.0   1962.0     A01            yes  "
            ]
          },
          "execution_count": 25,
          "metadata": {},
          "output_type": "execute_result"
        }
      ],
      "source": [
        "users.loc[:, 'secu'] = users.loc[:, 'secu'].values // 10\n",
        "users['secu'] = users['secu'].replace(0,1)\n",
        "users.head()"
      ]
    },
    {
      "cell_type": "code",
      "execution_count": 26,
      "metadata": {
        "colab": {
          "base_uri": "https://localhost:8080/",
          "height": 295
        },
        "id": "C-dbp05oyHAT",
        "outputId": "3f1ff86b-cec5-43b2-88a6-ba9276405933"
      },
      "outputs": [
        {
          "data": {
            "image/png": "[encoded data removed]",
            "text/plain": [
              "<Figure size 432x288 with 1 Axes>"
            ]
          },
          "metadata": {
            "needs_background": "light"
          },
          "output_type": "display_data"
        }
      ],
      "source": [
        "plt.clf()\n",
        "ax = sns.countplot(x = 'grav', hue = 'equipment_used', data=users.sort_values(by='grav'))\n",
        "ax.set_title('Severity of accident based on using safety equipment')\n",
        "ax.set_ylabel('Number of people')\n",
        "plt.show()"
      ]
    },
    {
      "cell_type": "code",
      "execution_count": 27,
      "metadata": {
        "colab": {
          "base_uri": "https://localhost:8080/",
          "height": 475
        },
        "id": "BqTDh8RSyaGD",
        "outputId": "d39cbd43-7957-47c0-e502-766ca92a696a"
      },
      "outputs": [
        {
          "data": {
            "text/plain": [
              "<Figure size 432x288 with 0 Axes>"
            ]
          },
          "metadata": {},
          "output_type": "display_data"
        },
        {
          "data": {
            "image/png": "[encoded data removed]",
            "text/plain": [
              "<Figure size 720x504 with 1 Axes>"
            ]
          },
          "metadata": {
            "needs_background": "light"
          },
          "output_type": "display_data"
        }
      ],
      "source": [
        "plt.clf()\n",
        "plt.figure(figsize=(10,7))\n",
        "ax = sns.countplot(x = 'grav', hue = 'equipment_used', data=users[(users['catu'] == 1) | (users['catu'] == 2)])\n",
        "ax.set_title('Severity of accident for drivers and passengers based on used safe equipment')\n",
        "ax.set_ylabel('Number of people')\n",
        "plt.show()"
      ]
    }
  ],
  "metadata": {
    "colab": {
      "name": "Projek Akhir Data Mining.ipynb",
      "provenance": []
    },
    "kernelspec": {
      "display_name": "Python 3.9.7 ('base')",
      "language": "python",
      "name": "python3"
    },
    "language_info": {
      "codemirror_mode": {
        "name": "ipython",
        "version": 3
      },
      "file_extension": ".py",
      "mimetype": "text/x-python",
      "name": "python",
      "nbconvert_exporter": "python",
      "pygments_lexer": "ipython3",
      "version": "3.9.7"
    },
    "vscode": {
      "interpreter": {
        "hash": "1cca9558bc5ad879ec93cc030b157d75f18267527c60932cecaace349eef54dd"
      }
    }
  },
  "nbformat": 4,
  "nbformat_minor": 0
}
